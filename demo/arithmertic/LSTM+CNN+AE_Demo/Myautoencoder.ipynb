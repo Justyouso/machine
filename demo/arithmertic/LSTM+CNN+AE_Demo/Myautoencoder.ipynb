{
 "cells": [
  {
   "cell_type": "markdown",
   "metadata": {},
   "source": [
    "# TensorFlow2教程-自编码器"
   ]
  },
  {
   "cell_type": "markdown",
   "metadata": {},
   "source": [
    "![](https://upload.wikimedia.org/wikipedia/commons/2/28/Autoencoder_structure.png)\n",
    "\n",
    "自动编码器的两个主要组成部分; 编码器和解码器\n",
    "编码器将输入压缩成一小组“编码”（通常，编码器输出的维数远小于编码器输入）\n",
    "解码器然后将编码器输出扩展为与编码器输入具有相同维度的输出\n",
    "换句话说，自动编码器旨在“重建”输入，同时学习数据的有限表示（即“编码”）"
   ]
  },
  {
   "cell_type": "markdown",
   "metadata": {},
   "source": [
    "##  1.导入数据"
   ]
  },
  {
   "cell_type": "code",
   "execution_count": null,
   "metadata": {},
   "outputs": [
    {
     "name": "stdout",
     "output_type": "stream",
     "text": [
      "1.13.1\n"
     ]
    }
   ],
   "source": [
    "import tensorflow as tf\n",
    "import tensorflow.keras as keras\n",
    "import tensorflow.keras.layers as layers\n",
    "from IPython.display import SVG\n",
    "print(tf.__version__)"
   ]
  },
  {
   "cell_type": "code",
   "execution_count": 20,
   "metadata": {},
   "outputs": [],
   "source": [
    "(x_train, y_train), (x_test, y_test) = keras.datasets.mnist.load_data()"
   ]
  },
  {
   "cell_type": "code",
   "execution_count": 21,
   "metadata": {},
   "outputs": [
    {
     "name": "stdout",
     "output_type": "stream",
     "text": [
      "(60000, 784)   (60000,)\n",
      "(10000, 784)   (10000,)\n"
     ]
    }
   ],
   "source": [
    "x_train = x_train.reshape((-1, 28*28)) / 255.0\n",
    "x_test = x_test.reshape((-1, 28*28)) / 255.0\n",
    "\n",
    "print(x_train.shape, ' ', y_train.shape)\n",
    "print(x_test.shape, ' ', y_test.shape)"
   ]
  },
  {
   "cell_type": "markdown",
   "metadata": {},
   "source": [
    "## 2.简单的自编码器"
   ]
  },
  {
   "cell_type": "code",
   "execution_count": 22,
   "metadata": {},
   "outputs": [
    {
     "name": "stdout",
     "output_type": "stream",
     "text": [
      "_________________________________________________________________\n",
      "Layer (type)                 Output Shape              Param #   \n",
      "=================================================================\n",
      "inputs (InputLayer)          (None, 784)               0         \n",
      "_________________________________________________________________\n",
      "code (Dense)                 (None, 32)                25120     \n",
      "_________________________________________________________________\n",
      "outputs (Dense)              (None, 784)               25872     \n",
      "=================================================================\n",
      "Total params: 50,992\n",
      "Trainable params: 50,992\n",
      "Non-trainable params: 0\n",
      "_________________________________________________________________\n"
     ]
    }
   ],
   "source": [
    "code_dim = 32\n",
    "inputs = layers.Input(shape=(x_train.shape[1],), name='inputs')\n",
    "code = layers.Dense(code_dim, activation='relu', name='code')(inputs)\n",
    "outputs = layers.Dense(x_train.shape[1], activation='softmax', name='outputs')(code)\n",
    "\n",
    "auto_encoder = keras.Model(inputs, outputs)\n",
    "auto_encoder.summary()"
   ]
  },
  {
   "cell_type": "code",
   "execution_count": 23,
   "metadata": {},
   "outputs": [],
   "source": [
    "keras.utils.plot_model(auto_encoder, show_shapes=True)"
   ]
  },
  {
   "cell_type": "code",
   "execution_count": 24,
   "metadata": {},
   "outputs": [],
   "source": [
    "encoder = keras.Model(inputs,code)\n",
    "keras.utils.plot_model(encoder, show_shapes=True)"
   ]
  },
  {
   "cell_type": "code",
   "execution_count": 25,
   "metadata": {},
   "outputs": [],
   "source": [
    "decoder_input = keras.Input((code_dim,))\n",
    "decoder_output = auto_encoder.layers[-1](decoder_input)\n",
    "decoder = keras.Model(decoder_input, decoder_output)\n",
    "keras.utils.plot_model(decoder, show_shapes=True)"
   ]
  },
  {
   "cell_type": "code",
   "execution_count": 26,
   "metadata": {},
   "outputs": [],
   "source": [
    "auto_encoder.compile(optimizer='adam',\n",
    "                    loss='binary_crossentropy')"
   ]
  },
  {
   "cell_type": "markdown",
   "metadata": {},
   "source": [
    "### 训练模型"
   ]
  },
  {
   "cell_type": "code",
   "execution_count": 27,
   "metadata": {},
   "outputs": [
    {
     "name": "stdout",
     "output_type": "stream",
     "text": [
      "Train on 54000 samples, validate on 6000 samples\n",
      "Epoch 1/50\n",
      "54000/54000 [==============================] - 5s 86us/sample - loss: 0.7068 - val_loss: 0.6801\n",
      "Epoch 2/50\n",
      "54000/54000 [==============================] - 4s 75us/sample - loss: 0.6797 - val_loss: 0.6741\n",
      "Epoch 3/50\n",
      "54000/54000 [==============================] - 4s 75us/sample - loss: 0.6767 - val_loss: 0.6729\n",
      "Epoch 4/50\n",
      "54000/54000 [==============================] - 4s 75us/sample - loss: 0.6758 - val_loss: 0.6726\n",
      "Epoch 5/50\n",
      "54000/54000 [==============================] - 4s 77us/sample - loss: 0.6753 - val_loss: 0.6720\n",
      "Epoch 6/50\n",
      "54000/54000 [==============================] - 5s 85us/sample - loss: 0.6750 - val_loss: 0.6718\n",
      "Epoch 7/50\n",
      "54000/54000 [==============================] - 5s 86us/sample - loss: 0.6748 - val_loss: 0.6716\n",
      "Epoch 8/50\n",
      "54000/54000 [==============================] - 5s 86us/sample - loss: 0.6746 - val_loss: 0.6716\n",
      "Epoch 9/50\n",
      "54000/54000 [==============================] - 5s 87us/sample - loss: 0.6745 - val_loss: 0.6714\n",
      "Epoch 10/50\n",
      "54000/54000 [==============================] - 5s 86us/sample - loss: 0.6744 - val_loss: 0.6713\n",
      "Epoch 11/50\n",
      "54000/54000 [==============================] - 5s 86us/sample - loss: 0.6743 - val_loss: 0.6714\n",
      "Epoch 12/50\n",
      "54000/54000 [==============================] - 5s 86us/sample - loss: 0.6742 - val_loss: 0.6712\n",
      "Epoch 13/50\n",
      "54000/54000 [==============================] - 5s 87us/sample - loss: 0.6741 - val_loss: 0.6712\n",
      "Epoch 14/50\n",
      "54000/54000 [==============================] - 5s 86us/sample - loss: 0.6740 - val_loss: 0.6712\n",
      "Epoch 15/50\n",
      "54000/54000 [==============================] - 5s 85us/sample - loss: 0.6740 - val_loss: 0.6710\n",
      "Epoch 16/50\n",
      "54000/54000 [==============================] - 5s 85us/sample - loss: 0.6739 - val_loss: 0.6710\n",
      "Epoch 17/50\n",
      "54000/54000 [==============================] - 5s 88us/sample - loss: 0.6738 - val_loss: 0.6709\n",
      "Epoch 18/50\n",
      "54000/54000 [==============================] - 5s 87us/sample - loss: 0.6738 - val_loss: 0.6708\n",
      "Epoch 19/50\n",
      "54000/54000 [==============================] - 5s 88us/sample - loss: 0.6737 - val_loss: 0.6708\n",
      "Epoch 20/50\n",
      "54000/54000 [==============================] - 5s 88us/sample - loss: 0.6736 - val_loss: 0.6708\n",
      "Epoch 21/50\n",
      "54000/54000 [==============================] - 5s 89us/sample - loss: 0.6736 - val_loss: 0.6706\n",
      "Epoch 22/50\n",
      "54000/54000 [==============================] - 5s 89us/sample - loss: 0.6735 - val_loss: 0.6706\n",
      "Epoch 23/50\n",
      "54000/54000 [==============================] - 5s 96us/sample - loss: 0.6734 - val_loss: 0.6705\n",
      "Epoch 24/50\n",
      "54000/54000 [==============================] - 5s 87us/sample - loss: 0.6734 - val_loss: 0.6706\n",
      "Epoch 25/50\n",
      "54000/54000 [==============================] - 5s 88us/sample - loss: 0.6733 - val_loss: 0.6706\n",
      "Epoch 26/50\n",
      "54000/54000 [==============================] - 6s 102us/sample - loss: 0.6733 - val_loss: 0.6704\n",
      "Epoch 27/50\n",
      "54000/54000 [==============================] - 5s 88us/sample - loss: 0.6732 - val_loss: 0.6703\n",
      "Epoch 28/50\n",
      "54000/54000 [==============================] - 5s 85us/sample - loss: 0.6732 - val_loss: 0.6702\n",
      "Epoch 29/50\n",
      "54000/54000 [==============================] - 5s 87us/sample - loss: 0.6731 - val_loss: 0.6702\n",
      "Epoch 30/50\n",
      "54000/54000 [==============================] - 5s 89us/sample - loss: 0.6731 - val_loss: 0.6702\n",
      "Epoch 31/50\n",
      "54000/54000 [==============================] - 6s 108us/sample - loss: 0.6730 - val_loss: 0.6701\n",
      "Epoch 32/50\n",
      "54000/54000 [==============================] - 5s 86us/sample - loss: 0.6730 - val_loss: 0.6701\n",
      "Epoch 33/50\n",
      "54000/54000 [==============================] - 5s 94us/sample - loss: 0.6729 - val_loss: 0.6700\n",
      "Epoch 34/50\n",
      "54000/54000 [==============================] - 5s 89us/sample - loss: 0.6729 - val_loss: 0.6699\n",
      "Epoch 35/50\n",
      "54000/54000 [==============================] - 5s 94us/sample - loss: 0.6729 - val_loss: 0.6699\n",
      "Epoch 36/50\n",
      "54000/54000 [==============================] - 5s 88us/sample - loss: 0.6728 - val_loss: 0.6700\n",
      "Epoch 37/50\n",
      "54000/54000 [==============================] - 5s 88us/sample - loss: 0.6728 - val_loss: 0.6699\n",
      "Epoch 38/50\n",
      "54000/54000 [==============================] - 5s 95us/sample - loss: 0.6728 - val_loss: 0.6700\n",
      "Epoch 39/50\n",
      "54000/54000 [==============================] - 5s 89us/sample - loss: 0.6727 - val_loss: 0.6699\n",
      "Epoch 40/50\n",
      "54000/54000 [==============================] - 5s 92us/sample - loss: 0.6727 - val_loss: 0.6699\n",
      "Epoch 41/50\n",
      "54000/54000 [==============================] - 5s 93us/sample - loss: 0.6726 - val_loss: 0.6699\n",
      "Epoch 42/50\n",
      "54000/54000 [==============================] - 5s 89us/sample - loss: 0.6726 - val_loss: 0.6698\n",
      "Epoch 43/50\n",
      "54000/54000 [==============================] - 5s 89us/sample - loss: 0.6726 - val_loss: 0.6697\n",
      "Epoch 44/50\n",
      "54000/54000 [==============================] - 5s 90us/sample - loss: 0.6726 - val_loss: 0.6697\n",
      "Epoch 45/50\n",
      "54000/54000 [==============================] - 5s 90us/sample - loss: 0.6725 - val_loss: 0.6697\n",
      "Epoch 46/50\n",
      "54000/54000 [==============================] - 5s 90us/sample - loss: 0.6725 - val_loss: 0.6697\n",
      "Epoch 47/50\n",
      "54000/54000 [==============================] - 5s 90us/sample - loss: 0.6724 - val_loss: 0.6696\n",
      "Epoch 48/50\n",
      "54000/54000 [==============================] - 5s 90us/sample - loss: 0.6724 - val_loss: 0.6696\n",
      "Epoch 49/50\n",
      "54000/54000 [==============================] - 5s 90us/sample - loss: 0.6723 - val_loss: 0.6696\n",
      "Epoch 50/50\n",
      "54000/54000 [==============================] - 5s 90us/sample - loss: 0.6723 - val_loss: 0.6695\n",
      "Wall time: 3min 58s\n"
     ]
    }
   ],
   "source": [
    "%%time\n",
    "history = auto_encoder.fit(x_train, x_train, batch_size=64, epochs=50, validation_split=0.1)"
   ]
  },
  {
   "cell_type": "code",
   "execution_count": 28,
   "metadata": {},
   "outputs": [],
   "source": [
    "encoded = encoder.predict(x_test)\n",
    "decoded = decoder.predict(encoded)"
   ]
  },
  {
   "cell_type": "code",
   "execution_count": 29,
   "metadata": {},
   "outputs": [
    {
     "data": {
      "text/plain": [
       "<matplotlib.figure.Figure at 0x20cbcb42c88>"
      ]
     },
     "execution_count": 29,
     "metadata": {},
     "output_type": "execute_result"
    },
    {
     "data": {
      "text/plain": [
       "<matplotlib.figure.Figure at 0x20cbcb42c88>"
      ]
     },
     "metadata": {},
     "output_type": "display_data"
    }
   ],
   "source": [
    "import matplotlib.pyplot as plt\n",
    "plt.figure(figsize=(10,4))"
   ]
  },
  {
   "cell_type": "code",
   "execution_count": 30,
   "metadata": {},
   "outputs": [
    {
     "data": {
      "image/png": "[encoded data removed]",
      "text/plain": [
       "<matplotlib.figure.Figure at 0x20cbcaedef0>"
      ]
     },
     "metadata": {
      "needs_background": "light"
     },
     "output_type": "display_data"
    }
   ],
   "source": [
    "n = 5\n",
    "for i in range(n):\n",
    "    ax = plt.subplot(2, n, i+1)\n",
    "    plt.imshow(x_test[i].reshape(28,28))\n",
    "    plt.gray()\n",
    "    ax.get_xaxis().set_visible(False)\n",
    "    ax.get_yaxis().set_visible(False)\n",
    "    \n",
    "    ax = plt.subplot(2, n, n+i+1)\n",
    "    plt.imshow(decoded[i].reshape(28,28))\n",
    "    plt.gray()\n",
    "    ax.get_xaxis().set_visible(False)\n",
    "    ax.get_yaxis().set_visible(False)\n",
    "plt.show()"
   ]
  },
  {
   "cell_type": "markdown",
   "metadata": {},
   "source": [
    "# 使用SVM分类器进行分类"
   ]
  },
  {
   "cell_type": "code",
   "execution_count": 31,
   "metadata": {},
   "outputs": [
    {
     "name": "stdout",
     "output_type": "stream",
     "text": [
      "accuracy_score: 0.9825\n",
      "Classification report for classifier SVC(C=10, cache_size=200, class_weight=None, coef0=0.0,\n",
      "  decision_function_shape='ovr', degree=3, gamma='auto', kernel='rbf',\n",
      "  max_iter=-1, probability=False, random_state=None, shrinking=True,\n",
      "  tol=0.001, verbose=False):\n",
      "             precision    recall  f1-score   support\n",
      "\n",
      "          0       0.99      0.99      0.99       980\n",
      "          1       0.99      1.00      0.99      1135\n",
      "          2       0.98      0.98      0.98      1032\n",
      "          3       0.98      0.98      0.98      1010\n",
      "          4       0.99      0.98      0.98       982\n",
      "          5       0.98      0.98      0.98       892\n",
      "          6       0.99      0.99      0.99       958\n",
      "          7       0.97      0.97      0.97      1028\n",
      "          8       0.98      0.98      0.98       974\n",
      "          9       0.97      0.97      0.97      1009\n",
      "\n",
      "avg / total       0.98      0.98      0.98     10000\n",
      "\n",
      "\n"
     ]
    }
   ],
   "source": [
    "x_train=encoder.predict(x_train)\n",
    "x_test=encoded\n",
    "#手写数字识别\n",
    "from sklearn.svm import SVC\n",
    "from sklearn.metrics import accuracy_score\n",
    "from sklearn.metrics import classification_report\n",
    "svc = SVC(10)\n",
    "svc.fit(x_train,y_train)\n",
    "predict = svc.predict(x_test)\n",
    "print(\"accuracy_score: %.4lf\" % accuracy_score(predict,y_test))\n",
    "print(\"Classification report for classifier %s:\\n%s\\n\" % (svc, classification_report(y_test, predict)))"
   ]
  }
 ],
 "metadata": {
  "kernelspec": {
   "display_name": "Python 3",
   "language": "python",
   "name": "python3"
  },
  "language_info": {
   "codemirror_mode": {
    "name": "ipython",
    "version": 3.0
   },
   "file_extension": ".py",
   "mimetype": "text/x-python",
   "name": "python",
   "nbconvert_exporter": "python",
   "pygments_lexer": "ipython3",
   "version": "3.6.4"
  }
 },
 "nbformat": 4,
 "nbformat_minor": 0
}